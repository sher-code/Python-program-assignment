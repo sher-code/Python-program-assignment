{
 "cells": [
  {
   "cell_type": "code",
   "execution_count": 1,
   "metadata": {},
   "outputs": [
    {
     "name": "stdout",
     "output_type": "stream",
     "text": [
      "Enter marks of the first subject: 88\n",
      "Enter marks of the second subject: 89\n",
      "Enter marks of the third subject: 96\n",
      "Enter marks of the fourth subject: 78\n",
      "Enter marks of the fifth subject: 87\n",
      "obtained marks are:\t\n",
      "516\n",
      "total marks are:\n",
      "500\n",
      "Grade: A\n"
     ]
    }
   ],
   "source": [
    "# Q_1\n",
    "sub1=int(input(\"Enter marks of the first subject: \"))\n",
    "sub2=int(input(\"Enter marks of the second subject: \"))\n",
    "sub3=int(input(\"Enter marks of the third subject: \"))\n",
    "sub4=int(input(\"Enter marks of the fourth subject: \"))\n",
    "sub5=int(input(\"Enter marks of the fifth subject: \"))\n",
    "sum=sub1+sub2+sub3+sub4+sub4+sub5\n",
    "print (\"obtained marks are:\\t\")\n",
    "print (sum)\n",
    "print(\"total marks are:\")\n",
    "print(500)\n",
    "avg=(sub1+sub2+sub3+sub4+sub4+sub5)/5\n",
    "if(avg>=90):\n",
    "    print(\"Grade: A\")\n",
    "elif(avg>=80):\n",
    "    print(\"Grade: B\")\n",
    "elif(avg>=70):\n",
    "    print(\"Grade: C\")\n",
    "elif(avg>=60):\n",
    "    print(\"Grade: D\")\n",
    "else:\n",
    "    print(\"Grade: F\")"
   ]
  },
  {
   "cell_type": "code",
   "execution_count": 1,
   "metadata": {},
   "outputs": [
    {
     "name": "stdout",
     "output_type": "stream",
     "text": [
      "Enter the Number9\n",
      "Number is Odd\n"
     ]
    }
   ],
   "source": [
    "# Q_2\n",
    "num=int(input(\"Enter the Number\"))\n",
    "if(num%2==0):\n",
    "    print(\"Number is Even\")\n",
    "else:\n",
    "    print(\"Number is Odd\")"
   ]
  },
  {
   "cell_type": "code",
   "execution_count": 2,
   "metadata": {},
   "outputs": [
    {
     "name": "stdout",
     "output_type": "stream",
     "text": [
      "Length of above mentioned list is:  6\n"
     ]
    }
   ],
   "source": [
    "# Q_3\n",
    "list_len=[1,3,4,5,6,7]\n",
    "print(\"Length of above mentioned list is: \",len(list_len))"
   ]
  },
  {
   "cell_type": "code",
   "execution_count": 3,
   "metadata": {},
   "outputs": [
    {
     "name": "stdout",
     "output_type": "stream",
     "text": [
      "Sum of all elements in given list:  74\n"
     ]
    }
   ],
   "source": [
    "# Q_4\n",
    "list1 = [11, 5, 17, 18, 23] \n",
    "  \n",
    "# using sum() function \n",
    "total = sum(list1) \n",
    "  \n",
    "# printing total value \n",
    "print(\"Sum of all elements in given list: \", total)"
   ]
  },
  {
   "cell_type": "code",
   "execution_count": 4,
   "metadata": {},
   "outputs": [
    {
     "name": "stdout",
     "output_type": "stream",
     "text": [
      "Largest element is: 100\n"
     ]
    }
   ],
   "source": [
    "# Q_5\n",
    "lis = [10, 20, 100, 45, 99] \n",
    "# sorting the list \n",
    "lis.sort() \n",
    "  \n",
    "# printing the last element \n",
    "print(\"Largest element is:\", lis[-1]) "
   ]
  },
  {
   "cell_type": "code",
   "execution_count": 5,
   "metadata": {},
   "outputs": [
    {
     "name": "stdout",
     "output_type": "stream",
     "text": [
      "1\n",
      "1\n",
      "2\n",
      "3\n",
      "4\n"
     ]
    }
   ],
   "source": [
    "# Q_6\n",
    "a = [1,1,2,3,4,8,13,21,34,55,89]\n",
    "if a[0]<5:\n",
    "    print(a[0])\n",
    "if a[1]<5:\n",
    "    print(a[1])\n",
    "if a[2]<5:\n",
    "    print(a[2])\n",
    "if a[3]<5:\n",
    "    print(a[3])\n",
    "if a[4]<5:\n",
    "    print(a[4])\n",
    "if a[5]<5:\n",
    "    print(a[5])\n",
    "if a[6]<5:\n",
    "    print(a[6])\n",
    "if a[7]<5:\n",
    "    print(a[7])\n",
    "if a[8]<5:\n",
    "    print(a[8])\n",
    "if a[9]<5:\n",
    "    print(a[9])\n",
    "if a[10]<5:\n",
    "    print(a[10])    "
   ]
  },
  {
   "cell_type": "code",
   "execution_count": null,
   "metadata": {},
   "outputs": [],
   "source": []
  }
 ],
 "metadata": {
  "kernelspec": {
   "display_name": "Python 3",
   "language": "python",
   "name": "python3"
  },
  "language_info": {
   "codemirror_mode": {
    "name": "ipython",
    "version": 3
   },
   "file_extension": ".py",
   "mimetype": "text/x-python",
   "name": "python",
   "nbconvert_exporter": "python",
   "pygments_lexer": "ipython3",
   "version": "3.7.4"
  }
 },
 "nbformat": 4,
 "nbformat_minor": 2
}
