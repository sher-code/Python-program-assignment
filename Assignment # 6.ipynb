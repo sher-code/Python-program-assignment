{
 "cells": [
  {
   "cell_type": "code",
   "execution_count": 4,
   "metadata": {},
   "outputs": [
    {
     "name": "stdout",
     "output_type": "stream",
     "text": [
      "CAR NAME :  Carolla\n",
      "CAR Price :  170000\n",
      "Registration Year :  2009\n"
     ]
    }
   ],
   "source": [
    "''''\n",
    "Question 1:Define Object Oriented Programming Language?\n",
    "Answer: Object-oriented programming is a programming paradigm based on the concept of objects, which can contain data, in the form of fields, and code, in the form of procedures. A feature of objects is an object's procedures that can access and often modify the data fields of the object with which they are associated.\n",
    "\n",
    "Question 2:List down the Benefits of OOP?\n",
    "Answer:Modularity for easier troubleshooting.\n",
    "Reuse of code through inheritance.\n",
    "Flexibility through polymorphism.\n",
    "Effective problem solving.\n",
    "\n",
    "Question 3:Differentiate between function and method?\n",
    "Answer: A function is a piece of code that is called by name. It can be passed data to operate on i.e. the parameters and can optionally return data the return value. All data that is passed to a function is explicitly passed.\n",
    "A method is a piece of code that is called by a name that is associated with an object. In most respects it is identical to a function except for two key differences:\n",
    "A method is implicitly passed the object on which it was called.\n",
    "A method is able to operate on data that is contained within the class remembering that an object is an instance of a class - the class is the definition, the object is an instance of that data.\n",
    "\n",
    "Question 4:Define the following terms:\n",
    "1. Class\n",
    " a class is a blueprint for creating objects, providing initial values for state (member variables or attributes), and implementations of behavior (member functions or methods).\n",
    "2. Object\n",
    "An object is nothing but a self-contained component which consists of methods and properties to make a particular type of data useful. Object determines the behavior of the class. \n",
    "3. Attribute\n",
    "an attribute is a specification that defines a property of an object, element or file. It may also refer to or set the specific value for a given instance of such.\n",
    "4. Behavior\n",
    "Objects in Python are generally classified according to their behaviors and the features that they implement.\n",
    "\n",
    "Question 5: \n",
    "Write a code in python in which create a class named it Car which have 5 attributes\n",
    "such like (model, color and name etc.) and 3 methods. And create 5 object instances from that class '''\n",
    "class Car:\n",
    "    def __init__(self,model,color,name,price,registration_year):\n",
    "        self.model = model\n",
    "        self.color = color\n",
    "        self.name = name\n",
    "        self.price = price\n",
    "        self.R_year = registration_year\n",
    "    def return_name(self):\n",
    "        return self.name\n",
    "    def return_price(self):\n",
    "        return self.price\n",
    "    def return_year(self):\n",
    "        return self.R_year\n",
    "C1 = Car(2010,\"White\",\"Carolla\",170000,2009)\n",
    "C2 = Car(2012,\"BLUE\",\"civic\",200000,2010)\n",
    "C3 = Car(2013,\"White\",\"honda\",300000,2011)\n",
    "C4 = Car(2015,\"White\",\"Mehran\",700000,2014)\n",
    "C5 = Car(2018,\"White\",\"Cultus\",190000,2018)\n",
    "print(\"CAR NAME : \",C1.return_name())\n",
    "print(\"CAR Price : \",C1.return_price())\n",
    "print(\"Registration Year : \",C1.return_year())"
   ]
  },
  {
   "cell_type": "code",
   "execution_count": null,
   "metadata": {},
   "outputs": [],
   "source": []
  }
 ],
 "metadata": {
  "kernelspec": {
   "display_name": "Python 3",
   "language": "python",
   "name": "python3"
  },
  "language_info": {
   "codemirror_mode": {
    "name": "ipython",
    "version": 3
   },
   "file_extension": ".py",
   "mimetype": "text/x-python",
   "name": "python",
   "nbconvert_exporter": "python",
   "pygments_lexer": "ipython3",
   "version": "3.7.4"
  }
 },
 "nbformat": 4,
 "nbformat_minor": 2
}
