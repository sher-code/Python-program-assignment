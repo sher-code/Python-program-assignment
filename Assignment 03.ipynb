{
 "cells": [
  {
   "cell_type": "code",
   "execution_count": 45,
   "metadata": {},
   "outputs": [
    {
     "name": "stdout",
     "output_type": "stream",
     "text": [
      "Enter 1st value: 31\n",
      "Enter 2nd value: 2\n",
      "Enter Operator from +,-,*,/,**:  *\n",
      "Result of Multiplication is =  62\n"
     ]
    }
   ],
   "source": [
    "# 1st Que: of Assignment No: 3\n",
    "\n",
    "value1 =int(input(\"Enter 1st value: \"))\n",
    "value2 =int(input(\"Enter 2nd value: \"))\n",
    "operator =input(\"Enter Operator from +,-,*,/,**:  \")\n",
    "\n",
    "if (operator=='+'):\n",
    "    print(\"Result of Addition is = \",value1+value2)\n",
    "\n",
    "elif (operator=='-'):\n",
    "    print(\"Result of Subtraction is = \",value1-value2)\n",
    "elif (operator=='*'):\n",
    "    print(\"Result of Multiplication is = \",value1*value2)  \n",
    "elif (operator=='/'):\n",
    "    print(\"Result of Division is = \",value1/value2)\n",
    "elif (operator=='**'):\n",
    "    print(\"Result of Power is = \",value1**value2)\n",
    "else :\n",
    "    print(\"Invalid Operator!!!!\")"
   ]
  },
  {
   "cell_type": "code",
   "execution_count": 13,
   "metadata": {},
   "outputs": [
    {
     "name": "stdout",
     "output_type": "stream",
     "text": [
      "1\n",
      "2\n",
      "37\n"
     ]
    }
   ],
   "source": [
    "# 2nd Que: of Assignment No: 3\n",
    "\n",
    "list_of_array =[1,2,\"Ammer\",\"Sher\",37]\n",
    "\n",
    "temp = type(1)  # temp varaaible will contain the data type integer after this line\n",
    "for i in list_of_array :\n",
    "    if type(i) == temp:\n",
    "        print(i)"
   ]
  },
  {
   "cell_type": "code",
   "execution_count": 6,
   "metadata": {},
   "outputs": [
    {
     "name": "stdout",
     "output_type": "stream",
     "text": [
      "Adding a new key  {'Name ': 'Sher Muhamamd', 'Caste ': 'Dahri', 'IDNO': '17CS'}\n"
     ]
    }
   ],
   "source": [
    "# 3rd Que: of Assignment No: 3\n",
    "dictionary={\"Name \":\"Sher Muhamamd\",\"Caste \":\"Dahri\"}\n",
    "dictionary[\"IDNO\"] =\"17CS\"  # adding a new key that is IDNo\n",
    "print(\"Adding a new key \",dictionary)\n"
   ]
  },
  {
   "cell_type": "code",
   "execution_count": 9,
   "metadata": {},
   "outputs": [
    {
     "name": "stdout",
     "output_type": "stream",
     "text": [
      "Sum of Numeric Values =  10\n"
     ]
    }
   ],
   "source": [
    "#  4th Que: of Assignment No: 3\n",
    "\n",
    "dictionary={\"a\":1,\"b\":2,\"c\":3,\"d\":4,}\n",
    "print(\"Sum of Numeric Values = \",sum(dictionary.values()))"
   ]
  },
  {
   "cell_type": "code",
   "execution_count": 17,
   "metadata": {},
   "outputs": [
    {
     "name": "stdout",
     "output_type": "stream",
     "text": [
      "[23, 57]\n"
     ]
    }
   ],
   "source": [
    "#  5th Que: of Assignment No: 3\n",
    "\n",
    "list =[11,2,3,55,23,23,57,57]\n",
    "\n",
    "item = 0\n",
    "count = 0\n",
    "new = []\n",
    "for i in list:\n",
    "    count = list.count(i)\n",
    "    if (count > 1 and item != i):\n",
    "        item = i\n",
    "        new.append(i)\n",
    "print(new)"
   ]
  },
  {
   "cell_type": "code",
   "execution_count": 48,
   "metadata": {},
   "outputs": [
    {
     "name": "stdout",
     "output_type": "stream",
     "text": [
      "Enter key c\n",
      "Already Exist\n"
     ]
    }
   ],
   "source": [
    "#  6th Que: of Assignment No: 3\n",
    "\n",
    "dictionary={\"a\":1,\"b\":2,\"c\":3,\"d\":4,\"e\":4,\"c\":66}\n",
    "take_key =input(\"Enter key \");\n",
    "\n",
    "for a in dictionary.keys():\n",
    "    if (take_key==a):\n",
    "        print(\"Already Exist\")"
   ]
  },
  {
   "cell_type": "code",
   "execution_count": null,
   "metadata": {},
   "outputs": [],
   "source": []
  }
 ],
 "metadata": {
  "kernelspec": {
   "display_name": "Python 3",
   "language": "python",
   "name": "python3"
  },
  "language_info": {
   "codemirror_mode": {
    "name": "ipython",
    "version": 3
   },
   "file_extension": ".py",
   "mimetype": "text/x-python",
   "name": "python",
   "nbconvert_exporter": "python",
   "pygments_lexer": "ipython3",
   "version": "3.7.4"
  }
 },
 "nbformat": 4,
 "nbformat_minor": 2
}
