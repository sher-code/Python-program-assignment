{
 "cells": [
  {
   "cell_type": "code",
   "execution_count": 45,
   "metadata": {},
   "outputs": [
    {
     "name": "stdout",
     "output_type": "stream",
     "text": [
      "Enter 1st value: 31\n",
      "Enter 2nd value: 2\n",
      "Enter Operator from +,-,*,/,**:  *\n",
      "Result of Multiplication is =  62\n"
     ]
    }
   ],
   "source": [
    "# 1st Que: of Assignment No: 3\n",
    "\n",
    "value1 =int(input(\"Enter 1st value: \"))\n",
    "value2 =int(input(\"Enter 2nd value: \"))\n",
    "operator =input(\"Enter Operator from +,-,*,/,**:  \")\n",
    "\n",
    "if (operator=='+'):\n",
    "    print(\"Result of Addition is = \",value1+value2)\n",
    "\n",
    "elif (operator=='-'):\n",
    "    print(\"Result of Subtraction is = \",value1-value2)\n",
    "elif (operator=='*'):\n",
    "    print(\"Result of Multiplication is = \",value1*value2)  \n",
    "elif (operator=='/'):\n",
    "    print(\"Result of Division is = \",value1/value2)\n",
    "elif (operator=='**'):\n",
    "    print(\"Result of Power is = \",value1**value2)\n",
    "else :\n",
    "    print(\"Invalid Operator!!!!\")"
   ]
  },
  {
   "cell_type": "code",
   "execution_count": 46,
   "metadata": {},
   "outputs": [
    {
     "name": "stdout",
     "output_type": "stream",
     "text": [
      "Is a integer number\n",
      "Is a integer number\n"
     ]
    },
    {
     "ename": "ValueError",
     "evalue": "invalid literal for int() with base 10: 'Ammer'",
     "output_type": "error",
     "traceback": [
      "\u001b[1;31m---------------------------------------------------------------------------\u001b[0m",
      "\u001b[1;31mValueError\u001b[0m                                Traceback (most recent call last)",
      "\u001b[1;32m<ipython-input-46-e164a81a5caa>\u001b[0m in \u001b[0;36m<module>\u001b[1;34m\u001b[0m\n\u001b[0;32m      4\u001b[0m \u001b[1;33m\u001b[0m\u001b[0m\n\u001b[0;32m      5\u001b[0m \u001b[1;32mfor\u001b[0m \u001b[0mtakes\u001b[0m \u001b[1;32min\u001b[0m \u001b[0mlist_of_array\u001b[0m \u001b[1;33m:\u001b[0m\u001b[1;33m\u001b[0m\u001b[1;33m\u001b[0m\u001b[0m\n\u001b[1;32m----> 6\u001b[1;33m     \u001b[1;32mif\u001b[0m \u001b[1;33m(\u001b[0m\u001b[0mint\u001b[0m\u001b[1;33m(\u001b[0m\u001b[0mtakes\u001b[0m\u001b[1;33m)\u001b[0m\u001b[1;33m)\u001b[0m\u001b[1;33m:\u001b[0m\u001b[1;33m\u001b[0m\u001b[1;33m\u001b[0m\u001b[0m\n\u001b[0m\u001b[0;32m      7\u001b[0m         \u001b[0mprint\u001b[0m\u001b[1;33m(\u001b[0m\u001b[1;34m\"Is a integer number\"\u001b[0m\u001b[1;33m)\u001b[0m\u001b[1;33m\u001b[0m\u001b[1;33m\u001b[0m\u001b[0m\n",
      "\u001b[1;31mValueError\u001b[0m: invalid literal for int() with base 10: 'Ammer'"
     ]
    }
   ],
   "source": [
    "# 2nd Que: of Assignment No: 3\n",
    "\n",
    "list_of_array =[1,2,\"Ammer\",\"Sher\"]\n",
    "\n",
    "for takes in list_of_array :\n",
    "    if (int(takes)):\n",
    "        print(\"Is a integer number\")\n"
   ]
  },
  {
   "cell_type": "code",
   "execution_count": 47,
   "metadata": {},
   "outputs": [
    {
     "name": "stdout",
     "output_type": "stream",
     "text": [
      "Adding a new key  {'Name ': 'Sher Muhamamd', 'Caste ': 'Dahri', 'IDNO': '17CS'}\n"
     ]
    }
   ],
   "source": [
    "# 3rd Que: of Assignment No: 3\n",
    "dictionary={\"Name \":\"Sher Muhamamd\",\"Caste \":\"Dahri\"}\n",
    "dictionary[\"IDNO\"] =\"17CS\"  # adding a new key that is IDNo\n",
    "print(\"Adding a new key \",dictionary)\n"
   ]
  },
  {
   "cell_type": "code",
   "execution_count": 30,
   "metadata": {},
   "outputs": [
    {
     "name": "stdout",
     "output_type": "stream",
     "text": [
      "Sum of Numeric Values =  10\n"
     ]
    }
   ],
   "source": [
    "#  4th Que: of Assignment No: 3\n",
    "\n",
    "dictionary={\"a\":1,\"b\":2,\"c\":3,\"d\":4}\n",
    "print(\"Sum of Numeric Values = \",sum(dictionary.values()))"
   ]
  },
  {
   "cell_type": "code",
   "execution_count": 39,
   "metadata": {},
   "outputs": [
    {
     "ename": "IndentationError",
     "evalue": "unexpected indent (<ipython-input-39-e8165938a9e7>, line 11)",
     "output_type": "error",
     "traceback": [
      "\u001b[1;36m  File \u001b[1;32m\"<ipython-input-39-e8165938a9e7>\"\u001b[1;36m, line \u001b[1;32m11\u001b[0m\n\u001b[1;33m    repeated = []\u001b[0m\n\u001b[1;37m    ^\u001b[0m\n\u001b[1;31mIndentationError\u001b[0m\u001b[1;31m:\u001b[0m unexpected indent\n"
     ]
    }
   ],
   "source": [
    "#  5th Que: of Assignment No: 3\n",
    "\n",
    "dictionary={\"a\":1,\"b\":2,\"c\":3,\"d\":4,\"e\":4}\n",
    "\n",
    "for a in dicitionary.values():\n",
    "    for b in dicitionary.vlaues():\n",
    "        if ()\n",
    "\n"
   ]
  },
  {
   "cell_type": "code",
   "execution_count": 48,
   "metadata": {},
   "outputs": [
    {
     "name": "stdout",
     "output_type": "stream",
     "text": [
      "Enter key c\n",
      "Already Exist\n"
     ]
    }
   ],
   "source": [
    "#  6th Que: of Assignment No: 3\n",
    "\n",
    "dictionary={\"a\":1,\"b\":2,\"c\":3,\"d\":4,\"e\":4,\"c\":66}\n",
    "take_key =input(\"Enter key \");\n",
    "\n",
    "for a in dictionary.keys():\n",
    "    if (take_key==a):\n",
    "        print(\"Already Exist\")"
   ]
  },
  {
   "cell_type": "code",
   "execution_count": null,
   "metadata": {},
   "outputs": [],
   "source": []
  }
 ],
 "metadata": {
  "kernelspec": {
   "display_name": "Python 3",
   "language": "python",
   "name": "python3"
  },
  "language_info": {
   "codemirror_mode": {
    "name": "ipython",
    "version": 3
   },
   "file_extension": ".py",
   "mimetype": "text/x-python",
   "name": "python",
   "nbconvert_exporter": "python",
   "pygments_lexer": "ipython3",
   "version": "3.7.4"
  }
 },
 "nbformat": 4,
 "nbformat_minor": 2
}
