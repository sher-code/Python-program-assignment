{
 "cells": [
  {
   "cell_type": "code",
   "execution_count": 9,
   "metadata": {},
   "outputs": [
    {
     "name": "stdout",
     "output_type": "stream",
     "text": [
      "{'first_name': 'Sher', 'last_name': 'Muhammad', 'age': '20', 'city': 'Hala'}\n",
      "{'first_name': 'Sher', 'last_name': 'Muhammad', 'age': '20', 'city': 'Hala', 'Qualification': 'UnderGraduate'}\n",
      "{'first_name': 'Sher', 'last_name': 'Muhammad', 'age': '20', 'city': 'Hala'}\n"
     ]
    }
   ],
   "source": [
    "#Coding of Que: 1\n",
    "\n",
    "detail_of_person ={\"first_name\":\"Sher\",\"last_name\":\"Muhammad\",\"age\":\"20\",\"city\":\"Hala\"}\n",
    "print(detail_of_person)\n",
    "detail_of_person[\"Qualification\"]=\"UnderGraduate\"\n",
    "print(detail_of_person)\n",
    "del detail_of_person[\"Qualification\"]\n",
    "print(detail_of_person)"
   ]
  },
  {
   "cell_type": "code",
   "execution_count": 8,
   "metadata": {},
   "outputs": [
    {
     "name": "stdout",
     "output_type": "stream",
     "text": [
      "dict_keys(['hala', 'Islamabad', 'Jmahsoro']) \n",
      "\n",
      "{'hala': {'country': 'PAK', 'Population': 120000, 'Fact': 'My lovely City'}, 'Islamabad': {'country': 'PAK', 'Population': 520500, 'Fact': 'Too Much Beautiful'}, 'Jmahsoro': {'country': 'PAK', 'Population': 220000, 'Fact': 'The City Of Education'}}\n"
     ]
    }
   ],
   "source": [
    "#Coding of Que: 2\n",
    "\n",
    "detail_of_cities={\"hala\":{\"country\":\"PAK\",\"Population\":120000,\"Fact\":\"My lovely City\"},\n",
    "                  \"Islamabad\":{\"country\":\"PAK\",\"Population\":520500,\"Fact\":\"Too Much Beautiful\"},\n",
    "                  \"Jmahsoro\":{\"country\":\"PAK\",\"Population\":220000,\"Fact\":\"The City Of Education\"}}\n",
    "print(detail_of_cities.keys(),\"\\n\")    # this line shows only keys ,that are the names of Cities\n",
    "\n",
    "print(detail_of_cities)           # this line shows the Whole information\n"
   ]
  },
  {
   "cell_type": "code",
   "execution_count": 3,
   "metadata": {},
   "outputs": [
    {
     "name": "stdout",
     "output_type": "stream",
     "text": [
      "Movie's Ticket price is basically on the ages ,Enter Your age: 59\n",
      "The Movie Ticket charges is $15...Enjoy!!!\n"
     ]
    }
   ],
   "source": [
    "#Coding of Que: 3\n",
    "\n",
    "age=int(input(\"Movie's Ticket price is basically on the ages ,Enter Your age: \"))\n",
    "if age<3:\n",
    "    print(\"The Movie Ticket is free...Enjoy!!!\")\n",
    "elif age>=3 and age<=12:\n",
    "    print(\"The Movie Ticket charges is $10...Enjoy!!!\")\n",
    "elif age>12:\n",
    "    print(\"The Movie Ticket charges is $15...Enjoy!!!\")"
   ]
  },
  {
   "cell_type": "code",
   "execution_count": 4,
   "metadata": {},
   "outputs": [
    {
     "name": "stdout",
     "output_type": "stream",
     "text": [
      "Enter Your Favourite Book Name: Java Programming\n",
      "\n",
      "My Favourite Book is  Java Programming\n"
     ]
    }
   ],
   "source": [
    "#Coding of Que: 4\n",
    "\n",
    "def favorite_book(title_of_book):\n",
    "    print(\"\\nMy Favourite Book is \",title_of_book)\n",
    "\n",
    "book=input(\"Enter Your Favourite Book Name: \")\n",
    "favorite_book(book) "
   ]
  },
  {
   "cell_type": "code",
   "execution_count": 7,
   "metadata": {},
   "outputs": [
    {
     "name": "stdout",
     "output_type": "stream",
     "text": [
      "Enter Guess number: 21\n",
      "Your guessed number is larger than the random number....\n",
      "Enter Guess number: 15\n",
      "Your guessed number is larger than the random number....\n",
      "Enter Guess number: 09\n",
      "Your guessed number is smaller than the random number....\n"
     ]
    }
   ],
   "source": [
    "#Coding of Que: 5\n",
    "\n",
    "from random import randint\n",
    "\n",
    "random=randint(1,30) # a random has been assign to random varaible\n",
    "loop=1\n",
    "while loop<=3:\n",
    "    \n",
    "    guessed_number=int(input(\"Enter Guess number: \"))\n",
    "    if guessed_number ==random:\n",
    "        print(\"You have succesfully guessed the Correct random number that is \",guessed_number)\n",
    "    elif guessed_number>random:\n",
    "        print(\"Your guessed number is larger than the random number....\")\n",
    "    else :\n",
    "        print(\"Your guessed number is smaller than the random number....\")\n",
    "    loop+=1\n",
    "    "
   ]
  },
  {
   "cell_type": "code",
   "execution_count": null,
   "metadata": {},
   "outputs": [],
   "source": []
  }
 ],
 "metadata": {
  "kernelspec": {
   "display_name": "Python 3",
   "language": "python",
   "name": "python3"
  },
  "language_info": {
   "codemirror_mode": {
    "name": "ipython",
    "version": 3
   },
   "file_extension": ".py",
   "mimetype": "text/x-python",
   "name": "python",
   "nbconvert_exporter": "python",
   "pygments_lexer": "ipython3",
   "version": "3.7.4"
  }
 },
 "nbformat": 4,
 "nbformat_minor": 2
}
